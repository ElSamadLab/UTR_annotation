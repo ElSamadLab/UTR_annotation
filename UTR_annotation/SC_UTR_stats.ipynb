{
 "cells": [
  {
   "cell_type": "code",
   "execution_count": 25,
   "metadata": {},
   "outputs": [],
   "source": [
    "import os\n",
    "import pandas as pd\n",
    "import matplotlib.pyplot as plt\n",
    "import numpy as np"
   ]
  },
  {
   "cell_type": "code",
   "execution_count": 4,
   "metadata": {},
   "outputs": [],
   "source": [
    "genome_assy_dir = os.path.normpath('C:\\\\Users\\\\BMH_work\\\\Google Drive\\\\UCSF\\\\ElSamad_Lab\\\\PKA\\\\Bioinformatics\\\\genome_assembly')\n",
    "utr3p_base = 'Nagalakshmi_2008_3UTRs_V64'#' Nag_gff_test'\n",
    "utr3p_fn = genome_assy_dir + os.sep + utr3p_base + '.gff3'\n",
    "\n"
   ]
  },
  {
   "cell_type": "code",
   "execution_count": 27,
   "metadata": {},
   "outputs": [
    {
     "name": "stdout",
     "output_type": "stream",
     "text": [
      "137.0374050263004\n"
     ]
    },
    {
     "data": {
      "image/png": "[encoded data removed]",
      "text/plain": [
       "<Figure size 432x288 with 1 Axes>"
      ]
     },
     "metadata": {
      "needs_background": "light"
     },
     "output_type": "display_data"
    }
   ],
   "source": [
    "nag_UTRs = pd.read_table(utr3p_fn, skiprows=42, header = None)\n",
    "nag_UTRs.columns = ['chromosome', 'source', 'type', 'start', 'end','score', 'strand', 'frame', 'attributes']\n",
    "UTR_lengths = nag_UTRs['end']-nag_UTRs['start']\n",
    "plt.hist(UTR_lengths, bins=40)\n",
    "print(np.mean(UTR_lengths))"
   ]
  },
  {
   "cell_type": "code",
   "execution_count": 12,
   "metadata": {},
   "outputs": [],
   "source": []
  },
  {
   "cell_type": "code",
   "execution_count": 24,
   "metadata": {},
   "outputs": [
    {
     "data": {
      "text/plain": [
       "(array([3.760e+02, 1.050e+03, 1.302e+03, 9.180e+02, 5.510e+02, 2.840e+02,\n",
       "        2.020e+02, 1.170e+02, 7.600e+01, 5.300e+01, 3.100e+01, 2.400e+01,\n",
       "        1.800e+01, 1.300e+01, 8.000e+00, 1.000e+01, 1.300e+01, 1.000e+01,\n",
       "        7.000e+00, 8.000e+00, 4.000e+00, 3.000e+00, 5.000e+00, 1.100e+01,\n",
       "        2.000e+00, 2.000e+00, 3.000e+00, 1.000e+00, 4.000e+00, 4.000e+00,\n",
       "        3.000e+00, 1.000e+00, 6.000e+00, 1.000e+00, 2.000e+00, 5.000e+00,\n",
       "        1.000e+00, 0.000e+00, 3.000e+00, 1.000e+00]),\n",
       " array([   0. ,   36.5,   73. ,  109.5,  146. ,  182.5,  219. ,  255.5,\n",
       "         292. ,  328.5,  365. ,  401.5,  438. ,  474.5,  511. ,  547.5,\n",
       "         584. ,  620.5,  657. ,  693.5,  730. ,  766.5,  803. ,  839.5,\n",
       "         876. ,  912.5,  949. ,  985.5, 1022. , 1058.5, 1095. , 1131.5,\n",
       "        1168. , 1204.5, 1241. , 1277.5, 1314. , 1350.5, 1387. , 1423.5,\n",
       "        1460. ]),\n",
       " <a list of 40 Patch objects>)"
      ]
     },
     "execution_count": 24,
     "metadata": {},
     "output_type": "execute_result"
    },
    {
     "data": {
      "image/png": "[encoded data removed]",
      "text/plain": [
       "<Figure size 432x288 with 1 Axes>"
      ]
     },
     "metadata": {
      "needs_background": "light"
     },
     "output_type": "display_data"
    }
   ],
   "source": []
  }
 ],
 "metadata": {
  "kernelspec": {
   "display_name": "Python 3",
   "language": "python",
   "name": "python3"
  },
  "language_info": {
   "codemirror_mode": {
    "name": "ipython",
    "version": 3
   },
   "file_extension": ".py",
   "mimetype": "text/x-python",
   "name": "python",
   "nbconvert_exporter": "python",
   "pygments_lexer": "ipython3",
   "version": "3.7.0"
  }
 },
 "nbformat": 4,
 "nbformat_minor": 2
}
