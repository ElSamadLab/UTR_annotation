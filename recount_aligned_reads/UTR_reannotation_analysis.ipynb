{
 "cells": [
  {
   "cell_type": "markdown",
   "metadata": {},
   "source": [
    "## Visualize the effect of reannotation of UTR"
   ]
  },
  {
   "cell_type": "code",
   "execution_count": 1,
   "metadata": {},
   "outputs": [],
   "source": [
    "import os\n",
    "import pandas as pd\n",
    "import matplotlib.pyplot as plt\n",
    "import numpy as np"
   ]
  },
  {
   "cell_type": "code",
   "execution_count": 212,
   "metadata": {},
   "outputs": [],
   "source": [
    "# UTR Stats\n",
    "\n",
    "#Load 3prime UTR data as a dataframe\n",
    "genome_assy_dir = os.path.normpath('/home/heineike/genomes/scer_20181114')\n",
    "utr3p_fn = genome_assy_dir + os.sep + 'Nagalakshmi_2008_3UTRs_V64.gff3'\n",
    "\n",
    "figsave_dir = os.path.normpath('/home/heineike/scratch/')"
   ]
  },
  {
   "cell_type": "code",
   "execution_count": 33,
   "metadata": {},
   "outputs": [
    {
     "data": {
      "text/plain": [
       "<matplotlib.collections.LineCollection at 0x7f6213d6b080>"
      ]
     },
     "execution_count": 33,
     "metadata": {},
     "output_type": "execute_result"
    },
    {
     "data": {
      "image/png": "[encoded data removed]",
      "text/plain": [
       "<Figure size 432x288 with 1 Axes>"
      ]
     },
     "metadata": {
      "needs_background": "light"
     },
     "output_type": "display_data"
    }
   ],
   "source": [
    "nag_UTRs = pd.read_table(utr3p_fn, skiprows=42, header = None)\n",
    "nag_UTRs.columns = ['chromosome', 'source', 'type', 'start', 'end','score', 'strand', 'frame', 'attributes']\n",
    "UTR_lengths = nag_UTRs['end']-nag_UTRs['start']\n",
    "\n",
    "fig, ax = plt.subplots()\n",
    "ymax = 1400\n",
    "ax.hist(UTR_lengths, bins=40)\n",
    "ax.set_ylim(0,ymax)\n",
    "ax.set_xlabel(\"3'UTR Length\", fontdict={'size':12})\n",
    "ax.set_ylabel('Frequency', fontdict={'size':12})\n",
    "ax.set_title(\"Histogram of 3'UTR length in S. cerevisiae\")\n",
    "dist_mean = np.mean(UTR_lengths)\n",
    "dist_median = np.median(UTR_lengths)\n",
    "ax.text(800,1000,'mean: {:0.1f}'.format(dist_mean), color='k')\n",
    "ax.vlines(dist_mean,0,ymax, color='k')\n",
    "ax.text(800,900, 'median: {:0.1f}'.format(dist_median), color = 'r')\n",
    "ax.vlines(dist_median,0,ymax, color='r')"
   ]
  },
  {
   "cell_type": "code",
   "execution_count": null,
   "metadata": {},
   "outputs": [],
   "source": [
    "#What percentage is above 400?"
   ]
  },
  {
   "cell_type": "markdown",
   "metadata": {},
   "source": [
    "## Load metadata from count files in order to compare with and without 3'UTR"
   ]
  },
  {
   "cell_type": "code",
   "execution_count": 176,
   "metadata": {},
   "outputs": [],
   "source": [
    "#extracts metadata from count files and stores as a dataframe\n",
    "#also stores a file for each countdata folder \n",
    "\n",
    "data_dir = os.path.normpath(\"/home/heineike/rna_seq_data/20181024_KL_SC_PKA_Msn24_Rph1Gis1/dual_index/BMH_HES_02\") + os.sep\n",
    "\n",
    "spec = 'SC'\n",
    "\n",
    "\n",
    "#Extract metadata from starLog.final.out\n",
    "\n",
    "samples = os.listdir(data_dir + 'processed_data')\n",
    "\n",
    "starLog_data_out_dict = {}\n",
    "for sample in samples: \n",
    "    if sample.split('_')[0]==spec:\n",
    "        #B15_S15_L001_R1_001.fastq.gz\n",
    "        index_base = sample.split('_')[1]\n",
    "        star_dir = os.path.normpath('star_out/B' + index_base + '_S' + str(int(index_base)) + '_L001_R1_001.fastq.gz') + os.sep\n",
    "\n",
    "        starLog = pd.read_table(data_dir + 'processed_data' + os.sep + sample + os.sep + star_dir + 'starLog.final.out', index_col = 0, header = None).T\n",
    "\n",
    "        ind_to_keep = [4,5]+list(range(7,21)) + list(range(22,26))+list(range(27,30))+[31,32]\n",
    "\n",
    "        starLog_data_out = starLog[starLog.columns[ind_to_keep]]\n",
    "\n",
    "        starLog_data_out_dict[sample] = starLog_data_out.values[0]\n",
    "\n",
    "starLog_data_df = pd.DataFrame.from_dict(starLog_data_out_dict, orient='index', columns = starLog_data_out.columns)\n",
    "\n",
    "\n",
    "\n",
    "#Get metadata from counts\n",
    "UTR_params = ['orig','nag']\n",
    "\n",
    "countfile_metadata_names = [\"__no_feature\", \"__ambiguous\", \"__too_low_aQual\", \"__not_aligned\", \"__alignment_not_unique\"]\n",
    "\n",
    "#count_metadata = {}\n",
    "\n",
    "metadata = starLog_data_df.copy()\n",
    "\n",
    "for UTR_param in UTR_params:\n",
    "\n",
    "\n",
    "    if UTR_param == 'nag':\n",
    "        count_dir = data_dir + \"counts_\" + spec + '_UTR_' + UTR_param + os.sep\n",
    "\n",
    "    elif UTR_param == 'orig': \n",
    "        count_dir = data_dir + \"counts_\" + spec + '_orig' + os.sep\n",
    "    \n",
    "    else: \n",
    "        raise ValueError('Bad UTR_param value')\n",
    "        \n",
    "    count_dirlist = os.listdir(count_dir)\n",
    "\n",
    "    #Make dataframe to store all metadata\n",
    "    #Make dict from sample to list of metadata\n",
    "\n",
    "\n",
    "    count_metadata_UTR_dict = {}\n",
    "    for counts_fname in count_dirlist: \n",
    "        if counts_fname.split('.')[-1]=='txt':  #only processes .txt files since the .csv will also be stored in this directory\n",
    "            ind = counts_fname.split('.')[0].split(spec)[1][1:]\n",
    "            sample = spec + '_' + ind\n",
    "            read_counts = pd.read_table(count_dir + counts_fname, header = None, index_col=0)\n",
    "            countfile_metadata = list(read_counts.loc[countfile_metadata_names,:].values.flatten())\n",
    "            count_metadata_UTR_dict[sample] = countfile_metadata\n",
    "\n",
    "    count_metadata_UTR = pd.DataFrame.from_dict(count_metadata_UTR_dict, orient='index', columns=[UTR_param + col for col in countfile_metadata_names])\n",
    "\n",
    "    count_metadata_UTR.to_csv(count_dir + 'count_metadata.csv')\n",
    "    \n",
    "    metadata = metadata.merge(count_metadata_UTR, how = 'outer',left_index=True, right_index=True)\n",
    "    \n",
    "    #count_metadata[UTR_param] = count_metadata_UTR\n",
    "\n",
    "\n",
    "#import my pre-sequencing metadata file and merge\n",
    "metadata_preseq = pd.read_csv(os.path.normpath('/home/heineike/rna_seq_data/20181024_KL_SC_PKA_Msn24_Rph1Gis1/20181017_metadata_V2.csv'))\n",
    "metadata_preseq['sample'] = metadata_preseq['Species'] + '_' + [str(ind)[-2:] for ind in metadata_preseq['I7 index']]\n",
    "\n",
    "\n",
    "metadata = metadata.merge(metadata_preseq, how='left', left_index=True, right_on='sample')\n",
    "\n",
    "#convert percentages of mapped reads and number of input reads\n",
    "metadata['Uniquely mapped reads %'] = [float(item.split('%')[0]) for item in metadata['                        Uniquely mapped reads % |']]\n",
    "metadata['Number of input reads'] = [int(item) for item in metadata['                          Number of input reads |']]\n",
    "\n",
    "#make columns for pct of reads not assigned to gene features for various reasons\n",
    "for UTR_param in UTR_params:\n",
    "    metadata[UTR_param + ' pct not aligned to feature'] = metadata[UTR_param + '__no_feature'].divide(metadata['Number of input reads'])\n",
    "    metadata[UTR_param + ' pct alignment not unique'] = metadata[UTR_param + '__alignment_not_unique'].divide(metadata['Number of input reads'])\n",
    "    metadata[UTR_param + ' pct ambiguous'] = metadata[UTR_param + '__ambiguous'].divide(metadata['Number of input reads'])\n",
    "\n",
    "metadata.to_csv(os.path.normpath('/home/heineike/rna_seq_data/20181024_KL_SC_PKA_Msn24_Rph1Gis1/20181017_metadata_V2_postseq_'+spec + '.csv'))\n"
   ]
  },
  {
   "cell_type": "code",
   "execution_count": 177,
   "metadata": {},
   "outputs": [
    {
     "data": {
      "text/plain": [
       "Index(['                          Number of input reads |',\n",
       "       '                      Average input read length |',\n",
       "       '                   Uniquely mapped reads number |',\n",
       "       '                        Uniquely mapped reads % |',\n",
       "       '                          Average mapped length |',\n",
       "       '                       Number of splices: Total |',\n",
       "       '            Number of splices: Annotated (sjdb) |',\n",
       "       '                       Number of splices: GT/AG |',\n",
       "       '                       Number of splices: GC/AG |',\n",
       "       '                       Number of splices: AT/AC |',\n",
       "       '               Number of splices: Non-canonical |',\n",
       "       '                      Mismatch rate per base, % |',\n",
       "       '                         Deletion rate per base |',\n",
       "       '                        Deletion average length |',\n",
       "       '                        Insertion rate per base |',\n",
       "       '                       Insertion average length |',\n",
       "       '        Number of reads mapped to multiple loci |',\n",
       "       '             % of reads mapped to multiple loci |',\n",
       "       '        Number of reads mapped to too many loci |',\n",
       "       '             % of reads mapped to too many loci |',\n",
       "       '       % of reads unmapped: too many mismatches |',\n",
       "       '                 % of reads unmapped: too short |',\n",
       "       '                     % of reads unmapped: other |',\n",
       "       '                       Number of chimeric reads |',\n",
       "       '                            % of chimeric reads |', 'orig__no_feature',\n",
       "       'orig__ambiguous', 'orig__too_low_aQual', 'orig__not_aligned',\n",
       "       'orig__alignment_not_unique', 'nag__no_feature', 'nag__ambiguous',\n",
       "       'nag__too_low_aQual', 'nag__not_aligned', 'nag__alignment_not_unique',\n",
       "       'BMH_index', 'long_name', 'AS/WT', 'Deletions', 'Condition',\n",
       "       'Rep_detail', 'Rep', 'Species', 'RNA Extraction',\n",
       "       'RNA Extraction round 2', 'Library Prep round', 'I7 index', 'I5 index',\n",
       "       'Library Conc (ng/ul)', 'ND Conc (ng/ul) ', 'Qbit Estimate',\n",
       "       'Vol for 2000ng', 'H20 Vol', '260/280', '260/230', 'sample',\n",
       "       'Uniquely mapped reads %', 'Number of input reads',\n",
       "       'orig pct not aligned to feature', 'orig pct alignment not unique',\n",
       "       'orig pct ambiguous', 'nag pct not aligned to feature',\n",
       "       'nag pct alignment not unique', 'nag pct ambiguous'],\n",
       "      dtype='object')"
      ]
     },
     "execution_count": 177,
     "metadata": {},
     "output_type": "execute_result"
    }
   ],
   "source": [
    "metadata.columns"
   ]
  },
  {
   "cell_type": "code",
   "execution_count": 213,
   "metadata": {},
   "outputs": [
    {
     "data": {
      "image/png": "[encoded data removed]",
      "text/plain": [
       "<Figure size 432x288 with 1 Axes>"
      ]
     },
     "metadata": {
      "needs_background": "light"
     },
     "output_type": "display_data"
    }
   ],
   "source": [
    "## Make this just plot S. cer\n",
    "\n",
    "#PLot pct no feature v.s. pct alignment not unique for each species\n",
    "\n",
    "#columns_to_view = ['__no_feature', '__ambiguous', '__too_low_aQual', '__not_aligned', '__alignment_not_unique','long_name', 'pct not aligned to feature', 'pct alignment not unique', 'Number of input reads',  '                   Uniquely mapped reads number |', 'total_reads_w_features']\n",
    "#metadata_df[columns_to_view]\n",
    "\n",
    "fig, ax = plt.subplots(1,1)\n",
    "\n",
    "#spec = 'SC'\n",
    "\n",
    "colordict = {'orig': 'r', 'nag': 'b'}\n",
    "\n",
    "for UTR_param in ['orig', 'nag']: \n",
    "    #metadata_df_spec = metadata_df[metadata_df['spec']==spec]\n",
    "    ax.scatter(metadata[UTR_param + ' pct not aligned to feature']*100, metadata[UTR_param + ' pct ambiguous']*100, c = colordict[UTR_param])\n",
    "    \n",
    "ax.set_xlabel('% no feature', fontdict={'size':14})\n",
    "ax.set_ylabel('% ambiguous', fontdict={'size':14})\n",
    "ax.set_xlim([0,50])\n",
    "ax.set_ylim([-0.5,6.0])\n",
    "ax.legend(['Original annotation','Including UTRs'], fontsize=12)\n",
    "\n",
    "fig.savefig(figsave_dir + os.sep + 'no_feat_v_ambig.svg')"
   ]
  },
  {
   "cell_type": "code",
   "execution_count": 214,
   "metadata": {},
   "outputs": [
    {
     "name": "stdout",
     "output_type": "stream",
     "text": [
      "3.207340249296167\n",
      "19.01044970907575\n",
      "6.202748465186284\n"
     ]
    }
   ],
   "source": [
    "UTR_param = 'nag'\n",
    "print(min(metadata[UTR_param + ' pct not aligned to feature']*100))\n",
    "print(max(metadata[UTR_param + ' pct not aligned to feature']*100))\n",
    "print(np.mean(metadata[UTR_param + ' pct not aligned to feature']*100))"
   ]
  },
  {
   "cell_type": "code",
   "execution_count": 219,
   "metadata": {},
   "outputs": [
    {
     "name": "stdout",
     "output_type": "stream",
     "text": [
      "2.1575243656965513\n",
      "4.967237035291559\n",
      "3.1823863538598665\n",
      "0.6182172062186395\n"
     ]
    }
   ],
   "source": [
    "UTR_param = 'nag'\n",
    "print(min(metadata[UTR_param + ' pct ambiguous']*100))\n",
    "print(max(metadata[UTR_param + ' pct ambiguous']*100))\n",
    "print(np.mean(metadata[UTR_param + ' pct ambiguous']*100))\n",
    "print(np.std(metadata[UTR_param + ' pct ambiguous']*100))"
   ]
  },
  {
   "cell_type": "code",
   "execution_count": 179,
   "metadata": {},
   "outputs": [
    {
     "data": {
      "text/plain": [
       "<matplotlib.legend.Legend at 0x7f62147bfa90>"
      ]
     },
     "execution_count": 179,
     "metadata": {},
     "output_type": "execute_result"
    },
    {
     "data": {
      "image/png": "[encoded data removed]",
      "text/plain": [
       "<Figure size 432x288 with 1 Axes>"
      ]
     },
     "metadata": {
      "needs_background": "light"
     },
     "output_type": "display_data"
    }
   ],
   "source": [
    "#when using the bluebee read counts directly, the pct alignment not unique is much higher.  Now using the same count command \n",
    "#and gff originating from the same source, they are aligned. \n",
    "fig, ax = plt.subplots(1,1)\n",
    "\n",
    "\n",
    "colordict = {'orig': 'r', 'nag': 'b'}\n",
    "\n",
    "for UTR_param in ['orig', 'nag']: \n",
    "    #metadata_df_spec = metadata_df[metadata_df['spec']==spec]\n",
    "    ax.scatter(metadata['Uniquely mapped reads %'], metadata[UTR_param + ' pct alignment not unique']*100, c = colordict[UTR_param])\n",
    "    \n",
    "ax.set_xlabel('Uniquely mapped reads %')\n",
    "ax.set_ylabel('% alignment not unique')\n",
    "ax.set_xlim([75,100])\n",
    "ax.set_ylim([0,50])\n",
    "ax.legend(['Original annotation','Including UTRs'])\n"
   ]
  },
  {
   "cell_type": "code",
   "execution_count": 135,
   "metadata": {},
   "outputs": [
    {
     "data": {
      "text/plain": [
       "(0, 5500000)"
      ]
     },
     "execution_count": 135,
     "metadata": {},
     "output_type": "execute_result"
    },
    {
     "data": {
      "image/png": "[encoded data removed]",
      "text/plain": [
       "<Figure size 432x288 with 1 Axes>"
      ]
     },
     "metadata": {
      "needs_background": "light"
     },
     "output_type": "display_data"
    }
   ],
   "source": [
    "fig, ax = plt.subplots(1,1)\n",
    "\n",
    "\n",
    "colordict = {'orig': 'r', 'nag': 'b'}\n",
    "\n",
    "UTR_param = 'orig'\n",
    "\n",
    "#metadata_df_spec = metadata_df[metadata_df['spec']==spec]\n",
    "ax.scatter(metadata['Uniquely mapped reads %'], metadata['Number of input reads'], c = colordict[UTR_param])\n",
    "           #metadata[UTR_param + ' pct alignment not unique'], c = colordict[UTR_param])\n",
    "    \n",
    "ax.set_xlabel('Uniquely mapped reads %')\n",
    "ax.set_ylabel('Number of input reads')\n",
    "ax.set_xlim([75,100])\n",
    "ax.set_ylim([0,5500000])\n"
   ]
  },
  {
   "cell_type": "code",
   "execution_count": 149,
   "metadata": {},
   "outputs": [
    {
     "data": {
      "text/plain": [
       "SC_03    78.23\n",
       "SC_78    82.23\n",
       "Name: Uniquely mapped reads %, dtype: float64"
      ]
     },
     "execution_count": 149,
     "metadata": {},
     "output_type": "execute_result"
    }
   ],
   "source": [
    "#sample 3 and 78 have lower uniquely mapped read percentages. \n",
    "metadata['Uniquely mapped reads %'][metadata['Uniquely mapped reads %']<85]"
   ]
  },
  {
   "cell_type": "code",
   "execution_count": 147,
   "metadata": {},
   "outputs": [
    {
     "name": "stdout",
     "output_type": "stream",
     "text": [
      "Minimum number of reads 245709 \n",
      "Maximum number of reads 5594439\n",
      "Minimum pct uniquely mapped 78.23 \n",
      "Maximum pct uniquely mapped 95.45\n"
     ]
    }
   ],
   "source": [
    "print('Minimum number of reads {} \\nMaximum number of reads {}'.format(min(metadata['Number of input reads']), \n",
    "                                                                       max(metadata['Number of input reads'])))\n",
    "\n",
    "print('Minimum pct uniquely mapped {} \\nMaximum pct uniquely mapped {}'.format(min(metadata['Uniquely mapped reads %']), \n",
    "                                                                       max(metadata['Uniquely mapped reads %'])))\n"
   ]
  },
  {
   "cell_type": "code",
   "execution_count": null,
   "metadata": {},
   "outputs": [],
   "source": [
    "#Metadata: Plot uniquely mapped reads v.s. total number of reads\n",
    "#this would be better if I had condition, background and species labeled. \n",
    "\n",
    "fig, ax = plt.subplots(1,1)\n",
    "\n",
    "colordict = {'SC': 'r', 'KL': 'b'}\n",
    "\n",
    "for spec in ['SC', 'KL']: \n",
    "    metadata_df_spec = metadata_df[metadata_df['spec']==spec]\n",
    "    unique_map_pct = metadata_df_spec['Uniquely mapped reads %']\n",
    "    nreads = metadata_df_spec['Number of input reads']\n",
    "    ax.scatter(unique_map_pct, nreads, color = colordict[spec])\n",
    "\n",
    "ax.set_xlabel('pct uniquely mapped reads')\n",
    "ax.set_ylabel('N reads')\n",
    "ax.set_xlim([75,100])\n",
    "ax.set_ylim([0,5500000])\n",
    "ax.legend(['S. Cerevisiae','K. Lactis'])"
   ]
  },
  {
   "cell_type": "code",
   "execution_count": 34,
   "metadata": {},
   "outputs": [],
   "source": [
    "# Scatter plot with original count data\n"
   ]
  },
  {
   "cell_type": "code",
   "execution_count": null,
   "metadata": {},
   "outputs": [],
   "source": [
    "# Scatter plot with revised count data"
   ]
  },
  {
   "cell_type": "code",
   "execution_count": null,
   "metadata": {},
   "outputs": [],
   "source": [
    "# Scatter plot with SC 400bp extension data"
   ]
  },
  {
   "cell_type": "code",
   "execution_count": null,
   "metadata": {},
   "outputs": [],
   "source": [
    "# comparison of LFC with/without count data, 400bp extension "
   ]
  },
  {
   "cell_type": "code",
   "execution_count": null,
   "metadata": {},
   "outputs": [],
   "source": [
    "# Comparison of raw expression with/without count data, 400bp extension"
   ]
  },
  {
   "cell_type": "code",
   "execution_count": null,
   "metadata": {},
   "outputs": [],
   "source": [
    "#Load metadata and countdata files\n",
    "\n",
    "metadata_df = pd.read_csv(data_processing_dir + os.path.normpath('kl_sc_PKA_as_m24_r1g1_20181017\\\\20181017_metadata_V2_postseq.csv'), index_col = 0)\n",
    "metadata_df.set_index('I7 index', inplace=True)\n",
    "\n",
    "spec = 'SC'\n",
    "countdata_df = pd.read_csv(data_processing_dir + os.path.normpath('kl_sc_PKA_as_m24_r1g1_20181017\\\\20181017_countdata_' + spec + '.csv'), index_col = 0)\n",
    "countdata_df_preUTR = pd.read_csv(data_processing_dir + os.path.normpath('kl_sc_PKA_as_m24_r1g1_20181017\\\\pre_UTR\\\\20181017_countdata_' + spec + '_preUTR.csv'), index_col = 0)"
   ]
  },
  {
   "cell_type": "code",
   "execution_count": null,
   "metadata": {},
   "outputs": [],
   "source": [
    "countdata_df_merged = countdata_df.merge(countdata_df_preUTR, how='inner', left_index=True, right_index=True, suffixes=('_UTR', '_preUTR'))\n",
    "\n",
    "inds_to_check = {'7009': 'AS -drug',\n",
    "                 '7013': 'AS +drug'}\n",
    "\n",
    "fig, axarr = plt.subplots(2,1)\n",
    "\n",
    "jj = 0\n",
    "for ind,title in inds_to_check.items():\n",
    "    ax = axarr[jj]\n",
    "    ax.scatter(np.log(countdata_df_merged.loc[:,ind+'_preUTR']), np.log(countdata_df_merged.loc[:,ind+'_UTR']), alpha = 0.1)\n",
    "    ax.set_xlabel(title + ' no UTR')\n",
    "    ax.set_ylabel(title + ' UTR')\n",
    "    jj = jj+1"
   ]
  },
  {
   "cell_type": "code",
   "execution_count": null,
   "metadata": {},
   "outputs": [],
   "source": [
    "\n",
    "#         spec_index = read_counts.drop(labels = countfile_metadata_names,axis=0).index\n",
    "\n",
    "#         spec_countdata = pd.DataFrame(index=spec_index)\n",
    "\n",
    "#         countdata_df_dict[spec] = spec_countdata\n",
    "        \n",
    "#I7_index = [int('70' + str(sample_dir.split('_')[1]).zfill(2)) for sample_dir in raw_data_dirlist]\n",
    "\n",
    "# #columns = ['spec', 'index'] + list(starLog.columns[ind_to_keep])\n",
    "# #pd.DataFrame(index = index, columns = columns)\n",
    "# metadata_df = pd.DataFrame(index = I7_index)\n",
    "\n",
    "\n",
    "# countfile_metadata_names = [\"__no_feature\", \"__ambiguous\", \"__too_low_aQual\", \"__not_aligned\", \"__alignment_not_unique\"]\n",
    "\n",
    "\n",
    "# #Make dataframe to store all count data by gene\n",
    "# indices = {}\n",
    "\n",
    "# #the first sample in the directory is a KL sample, the last one is an SC sample\n",
    "# sample_dirs = {'KL': raw_data_dirlist[0], \n",
    "#             'SC': raw_data_dirlist[-1]}\n",
    "\n",
    "# # read_counts_fnames = {'KL' : 'read_counts.txt',\n",
    "# #                      'SC' : 'read_counts_UTR.txt'}\n",
    "\n",
    "# read_counts_fname = 'read_counts_UTR.txt'\n",
    "\n",
    "# countdata_df_dict = {}\n",
    "\n",
    "# for spec, sample_dir in sample_dirs.items():\n",
    "\n",
    "#     #Get index by species\n",
    "    \n",
    "#     #If the read count filenames are different use this: \n",
    "#     #read_counts_fname = read_counts_fnames[spec]\n",
    "\n",
    "#     index_base = sample_dir.split('_')[1]\n",
    "#     index = int('70' + index_base)\n",
    "\n",
    "#     #Extract data from read_counts.txt\n",
    "#     star_dir = os.path.normpath('star_out\\\\B' + index_base + '_S' + str(int(index_base)) + '_L001_R1_001.fastq.gz') + os.sep\n",
    "#     print(star_dir)\n",
    "#     read_counts = pd.read_table(raw_data_dir + sample_dir + os.sep + star_dir + read_counts_fname, header = None, index_col=0)\n",
    "#     spec_index = read_counts.drop(labels = countfile_metadata_names,axis=0).index\n",
    "\n",
    "#     spec_countdata = pd.DataFrame(index=spec_index)\n",
    "\n",
    "#     countdata_df_dict[spec] = spec_countdata\n",
    "\n",
    "\n",
    "\n",
    "\n",
    "# spec_list = []\n",
    "# starLog_data_out_dict = {}\n",
    "# read_counts_metadata_dict = {}\n",
    "\n",
    "# for sample_dir in raw_data_dirlist: \n",
    "#     spec = sample_dir.split('_')[0]\n",
    "#     spec_list.append(spec)\n",
    "\n",
    "#     #If the read count filenames are different use this: \n",
    "#     #read_counts_fname = read_counts_fnames[spec]\n",
    "    \n",
    "#     index_base = sample_dir.split('_')[1]\n",
    "#     index = int('70' + index_base)\n",
    "\n",
    "#     #Extract metadata from starLog.final.out\n",
    "#     star_dir = os.path.normpath('star_out\\\\B' + index_base + '_S' + str(int(index_base)) + '_L001_R1_001.fastq.gz') + os.sep\n",
    "\n",
    "#     starLog = pd.read_table(raw_data_dir + sample_dir + os.sep + star_dir + 'starLog.final.out', index_col = 0, header = None).T\n",
    "\n",
    "#     ind_to_keep = [4,5]+list(range(7,21)) + list(range(22,26))+list(range(27,30))+[31,32]\n",
    "\n",
    "#     starLog_data_out = starLog[starLog.columns[ind_to_keep]]\n",
    "\n",
    "#     starLog_data_out_dict[index] = starLog_data_out.values[0]\n",
    "\n",
    "\n",
    "#     #Extract data from read_counts.txt or read_counts_UTR.txt\n",
    "#     read_counts = pd.read_table(raw_data_dir + sample_dir + os.sep + star_dir + read_counts_fname, header = None, index_col=0)\n",
    "    \n",
    "#     read_counts_metadata_dict[index] = list(read_counts.loc[countfile_metadata_names][1].values) + list(read_counts.drop(labels = countfile_metadata_names,axis=0).sum().values)\n",
    "    \n",
    "#     #store data in correct dataframe\n",
    "#     countdata_df = countdata_df_dict[spec]\n",
    "#     countdata_df[index] = read_counts.drop(labels = countfile_metadata_names,axis=0)\n",
    "    \n",
    "    \n",
    "\n",
    "# #add species to metadata dataframe\n",
    "# metadata_df['spec'] = spec_list\n",
    "\n",
    "# #integrate metadata from starLog\n",
    "# starLog_data_df = pd.DataFrame.from_dict(starLog_data_out_dict, orient='index', columns = starLog_data_out.columns)\n",
    "# metadata_df = metadata_df.merge(starLog_data_df, left_index=True, right_index=True, how = 'inner')\n",
    "\n",
    "# #integrate metadata from count files\n",
    "# read_counts_metadata_df = pd.DataFrame.from_dict(read_counts_metadata_dict, orient = 'index', columns = countfile_metadata_names + ['total_reads_w_features'] )\n",
    "# metadata_df = metadata_df.merge(read_counts_metadata_df, left_index=True, right_index=True, how = 'inner')\n",
    "\n",
    "# #import my pre-sequencing metadata file and merge\n",
    "# metadata_preseq = pd.read_csv(data_processing_dir + os.path.normpath('kl_sc_PKA_as_m24_r1g1_20181017\\\\20181017_metadata_V2.csv'))\n",
    "\n",
    "# metadata_df = metadata_df.merge(metadata_preseq, left_index = True, right_on = 'I7 index', how = 'left')\n",
    "\n",
    "# #convert percentages of mapped reads and number of input reads\n",
    "# metadata_df['Uniquely mapped reads %'] = [float(item.split('%')[0]) for item in metadata_df['                        Uniquely mapped reads % |']]\n",
    "# metadata_df['Number of input reads'] = [int(item) for item in metadata_df['                          Number of input reads |']]\n",
    "\n",
    "# #make columns for pct of reads not assigned to gene features for various reasons\n",
    "# metadata_df['pct not aligned to feature'] = metadata_df['__no_feature'].divide(metadata_df['Number of input reads'])\n",
    "# metadata_df['pct alignment not unique'] = metadata_df['__alignment_not_unique'].divide(metadata_df['Number of input reads'])\n",
    "# metadata_df['pct ambiguous'] = metadata_df['__ambiguous'].divide(metadata_df['Number of input reads'])\n",
    "\n",
    "# metadata_df.to_csv(data_processing_dir + os.path.normpath('kl_sc_PKA_as_m24_r1g1_20181017\\\\20181017_metadata_V2p2_postseq.csv'))\n",
    "\n",
    "# for spec, countdata_df in countdata_df_dict.items():\n",
    "#     countdata_df.to_csv(data_processing_dir + os.path.normpath('kl_sc_PKA_as_m24_r1g1_20181017\\\\20181017_countdata_' + spec + '.csv'))\n"
   ]
  },
  {
   "cell_type": "code",
   "execution_count": null,
   "metadata": {},
   "outputs": [],
   "source": [
    "#Load metadata and countdata files\n",
    "\n",
    "metadata_df = pd.read_csv(data_processing_dir + os.path.normpath('kl_sc_PKA_as_m24_r1g1_20181017\\\\20181017_metadata_V2p2_postseq.csv'), index_col = 0)\n",
    "metadata_df.set_index('I7 index', inplace=True)\n",
    "\n",
    "countdata_df_dict = {}\n",
    "\n",
    "for spec in ['SC', 'KL']: \n",
    "    countdata_df_dict[spec] = pd.read_csv(data_processing_dir + os.path.normpath('kl_sc_PKA_as_m24_r1g1_20181017\\\\20181017_countdata_' + spec + '.csv'), index_col = 0)\n",
    "    "
   ]
  },
  {
   "cell_type": "code",
   "execution_count": null,
   "metadata": {},
   "outputs": [],
   "source": [
    "#adjust datasets based on QC: \n",
    "\n",
    "#remove SC: \n",
    "#7077 low counts, lots of unmapped reads and isn't clustering well \n",
    "#7073 name mix up - not sure what the sample is. clusters with WT, RG/M24/RGM24, +drug\n",
    "\n",
    "#remove from countdata\n",
    "countdata_postQC = {}\n",
    "column_drop_dict = {'SC': ['7077','7073']}\n",
    "\n",
    "for spec, countdata_df in countdata_df_dict.items():\n",
    "    countdata_postQC_spec = countdata_df.copy()\n",
    "    \n",
    "    #only drops columns if the species has columns to drop\n",
    "    if spec in column_drop_dict.keys():\n",
    "        countdata_postQC_spec = countdata_df.drop(columns = column_drop_dict[spec])       \n",
    "    countdata_postQC[spec] = countdata_postQC_spec\n",
    "    countdata_postQC_spec.to_csv(data_processing_dir + os.path.normpath('kl_sc_PKA_as_m24_r1g1_20181017\\\\20181017_countdata_postQC_' + spec + '.csv')) \n",
    "    \n",
    "#remove from metadata\n",
    "all_samples_to_drop = [int(ind) for ind in list(chain.from_iterable(list(column_drop_dict.values())))]\n",
    "metadata_postQC = metadata_df.drop(index = all_samples_to_drop)\n",
    "\n",
    "metadata_postQC.to_csv(data_processing_dir + os.path.normpath('kl_sc_PKA_as_m24_r1g1_20181017\\\\20181017_metadata_postQC.csv'))   \n"
   ]
  },
  {
   "cell_type": "code",
   "execution_count": null,
   "metadata": {},
   "outputs": [],
   "source": [
    "#Load metadata and countdata (post QC) \n",
    "\n",
    "metadata_postQC = pd.read_csv(data_processing_dir + os.path.normpath('kl_sc_PKA_as_m24_r1g1_20181017\\\\20181017_metadata_postQC.csv'), index_col = 0)\n",
    "\n",
    "countdata_postQC = {}\n",
    "\n",
    "for spec in ['SC', 'KL']: \n",
    "    countdata_postQC[spec] = pd.read_csv(data_processing_dir + os.path.normpath('kl_sc_PKA_as_m24_r1g1_20181017\\\\20181017_countdata_postQC_' + spec + '.csv'), index_col = 0)\n"
   ]
  },
  {
   "cell_type": "code",
   "execution_count": 159,
   "metadata": {},
   "outputs": [
    {
     "data": {
      "text/plain": [
       "3667976"
      ]
     },
     "execution_count": 159,
     "metadata": {},
     "output_type": "execute_result"
    }
   ],
   "source": [
    "3326567 + 341409"
   ]
  },
  {
   "cell_type": "code",
   "execution_count": 166,
   "metadata": {},
   "outputs": [
    {
     "data": {
      "text/plain": [
       "100.00000000000001"
      ]
     },
     "execution_count": 166,
     "metadata": {},
     "output_type": "execute_result"
    }
   ],
   "source": [
    " 89.72 + 9.21 + .18 + .12 + .77"
   ]
  },
  {
   "cell_type": "code",
   "execution_count": 161,
   "metadata": {},
   "outputs": [
    {
     "data": {
      "text/plain": [
       "                          Number of input reads |       3707558\n",
       "                      Average input read length |            50\n",
       "                   Uniquely mapped reads number |       3326578\n",
       "                        Uniquely mapped reads % |        89.72%\n",
       "                          Average mapped length |         49.53\n",
       "                       Number of splices: Total |          9567\n",
       "            Number of splices: Annotated (sjdb) |          6700\n",
       "                       Number of splices: GT/AG |          9561\n",
       "                       Number of splices: GC/AG |             2\n",
       "                       Number of splices: AT/AC |             1\n",
       "               Number of splices: Non-canonical |             3\n",
       "                      Mismatch rate per base, % |         0.68%\n",
       "                         Deletion rate per base |         0.00%\n",
       "                        Deletion average length |          1.14\n",
       "                        Insertion rate per base |         0.00%\n",
       "                       Insertion average length |          1.07\n",
       "        Number of reads mapped to multiple loci |        341409\n",
       "             % of reads mapped to multiple loci |         9.21%\n",
       "        Number of reads mapped to too many loci |         28398\n",
       "             % of reads mapped to too many loci |         0.77%\n",
       "       % of reads unmapped: too many mismatches |         0.00%\n",
       "                 % of reads unmapped: too short |         0.18%\n",
       "                     % of reads unmapped: other |         0.12%\n",
       "                       Number of chimeric reads |             0\n",
       "                            % of chimeric reads |         0.00%\n",
       "orig__no_feature                                         472965\n",
       "orig__ambiguous                                           17993\n",
       "orig__too_low_aQual                                           0\n",
       "orig__not_aligned                                             0\n",
       "orig__alignment_not_unique                               967924\n",
       "nag__no_feature                                          118914\n",
       "nag__ambiguous                                            93351\n",
       "nag__too_low_aQual                                            0\n",
       "nag__not_aligned                                              0\n",
       "nag__alignment_not_unique                                341409\n",
       "Uniquely mapped reads %                                   89.72\n",
       "Number of input reads                                   3707558\n",
       "orig pct not aligned to feature                        0.127568\n",
       "orig pct alignment not unique                          0.261068\n",
       "orig pct ambiguous                                   0.00485306\n",
       "nag pct not aligned to feature                        0.0320734\n",
       "nag pct alignment not unique                          0.0920846\n",
       "nag pct ambiguous                                     0.0251786\n",
       "Name: SC_01, dtype: object"
      ]
     },
     "execution_count": 161,
     "metadata": {},
     "output_type": "execute_result"
    }
   ],
   "source": [
    "metadata.loc['SC_01',:]"
   ]
  },
  {
   "cell_type": "code",
   "execution_count": 190,
   "metadata": {},
   "outputs": [],
   "source": [
    "orig = pd.read_table('/home/heineike/rna_seq_data/20181024_KL_SC_PKA_Msn24_Rph1Gis1/dual_index/BMH_HES_02/counts_SC_orig/read_counts_orig_SC_13.txt', names = ['genename','counts'], index_col=0)\n",
    "nag = pd.read_table('/home/heineike/rna_seq_data/20181024_KL_SC_PKA_Msn24_Rph1Gis1/dual_index/BMH_HES_02/counts_SC_UTR_nag/read_counts_UTR_nag_SC_13.txt', names = ['genename','counts'], index_col=0)\n"
   ]
  },
  {
   "cell_type": "code",
   "execution_count": 205,
   "metadata": {},
   "outputs": [
    {
     "data": {
      "text/html": [
       "<div>\n",
       "<style scoped>\n",
       "    .dataframe tbody tr th:only-of-type {\n",
       "        vertical-align: middle;\n",
       "    }\n",
       "\n",
       "    .dataframe tbody tr th {\n",
       "        vertical-align: top;\n",
       "    }\n",
       "\n",
       "    .dataframe thead th {\n",
       "        text-align: right;\n",
       "    }\n",
       "</style>\n",
       "<table border=\"1\" class=\"dataframe\">\n",
       "  <thead>\n",
       "    <tr style=\"text-align: right;\">\n",
       "      <th></th>\n",
       "      <th>counts_orig</th>\n",
       "      <th>counts_nag</th>\n",
       "    </tr>\n",
       "    <tr>\n",
       "      <th>genename</th>\n",
       "      <th></th>\n",
       "      <th></th>\n",
       "    </tr>\n",
       "  </thead>\n",
       "  <tbody>\n",
       "    <tr>\n",
       "      <th>YEL039C</th>\n",
       "      <td>114</td>\n",
       "      <td>278</td>\n",
       "    </tr>\n",
       "    <tr>\n",
       "      <th>YOR347C</th>\n",
       "      <td>121</td>\n",
       "      <td>121</td>\n",
       "    </tr>\n",
       "    <tr>\n",
       "      <th>YNR034W-A</th>\n",
       "      <td>1026</td>\n",
       "      <td>1501</td>\n",
       "    </tr>\n",
       "    <tr>\n",
       "      <th>YNR034W</th>\n",
       "      <td>40</td>\n",
       "      <td>90</td>\n",
       "    </tr>\n",
       "  </tbody>\n",
       "</table>\n",
       "</div>"
      ],
      "text/plain": [
       "           counts_orig  counts_nag\n",
       "genename                          \n",
       "YEL039C            114         278\n",
       "YOR347C            121         121\n",
       "YNR034W-A         1026        1501\n",
       "YNR034W             40          90"
      ]
     },
     "execution_count": 205,
     "metadata": {},
     "output_type": "execute_result"
    }
   ],
   "source": [
    "SC_13_merge = orig.merge(nag, how='outer', left_index = True, right_index=True, suffixes=['_orig','_nag'])\n",
    "SC_13_diff = SC_13_merge['counts_nag']-SC_13_merge['counts_orig']\n",
    "\n",
    "#CYC7 = YEL039C\n",
    "#PYK2 = YOR347C\n",
    "#EGO4 = YNR034W-A\n",
    "#\n",
    "#\n",
    "\n",
    "SC_13_merge.loc[['YEL039C','YOR347C', 'YNR034W-A', 'YNR034W'],:]"
   ]
  }
 ],
 "metadata": {
  "kernelspec": {
   "display_name": "seqanalysis",
   "language": "python",
   "name": "seqanalysis"
  },
  "language_info": {
   "codemirror_mode": {
    "name": "ipython",
    "version": 3
   },
   "file_extension": ".py",
   "mimetype": "text/x-python",
   "name": "python",
   "nbconvert_exporter": "python",
   "pygments_lexer": "ipython3",
   "version": "3.5.5"
  }
 },
 "nbformat": 4,
 "nbformat_minor": 2
}
