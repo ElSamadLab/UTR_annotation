{
 "cells": [
  {
   "cell_type": "markdown",
   "metadata": {},
   "source": [
    "The filenames resulting from the processed data from Bluebee were too long for windows given the rest of the filepath, e.g. \n",
    "    \n",
    "    KL_-B82_S82_L001_R1_001_fastq_gz-FWD_K_lactis__ASM251v1__Lexogen_QuantSeq_2_2_3-9abc2f16-fffa-4768-a637-b113ebea5dfc_output-folder\n",
    "    \n",
    "I used this routine to shorten them, e.g.\n",
    "\n",
    "    KL_82\n",
    "\n",
    "I had to load them all into a new directory named `C:\\\\a\\\\` since that was the shortest possible name.  \n",
    "\n",
    "Not sure if this will be a problem in a UNIX environment. "
   ]
  },
  {
   "cell_type": "code",
   "execution_count": null,
   "metadata": {},
   "outputs": [],
   "source": [
    "import os"
   ]
  },
  {
   "cell_type": "code",
   "execution_count": null,
   "metadata": {},
   "outputs": [],
   "source": [
    "\n",
    "dirlist = os.listdir('C:\\\\a\\\\')\n",
    "for directory in dirlist: \n",
    "    print(directory)\n",
    "    new_directory = directory.split('_')[0]+'_'+directory.split('_')[1][2:]\n",
    "    print(new_directory)\n",
    "    os.rename('C:\\\\a\\\\' + directory, 'C:\\\\a\\\\' + new_directory)"
   ]
  }
 ],
 "metadata": {
  "kernelspec": {
   "display_name": "seqanalysis",
   "language": "python",
   "name": "seqanalysis"
  },
  "language_info": {
   "codemirror_mode": {
    "name": "ipython",
    "version": 3
   },
   "file_extension": ".py",
   "mimetype": "text/x-python",
   "name": "python",
   "nbconvert_exporter": "python",
   "pygments_lexer": "ipython3",
   "version": "3.5.5"
  }
 },
 "nbformat": 4,
 "nbformat_minor": 2
}
